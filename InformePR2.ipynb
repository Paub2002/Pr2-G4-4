{
 "cells": [
  {
   "cell_type": "markdown",
   "metadata": {},
   "source": [
    "# Sistemes Multimèdia\n",
    "\n",
    "## Practica Sessió 2: Compressió de vídeos amb h261 i MPEG.\n"
   ]
  },
  {
   "cell_type": "markdown",
   "metadata": {},
   "source": [
    "\n",
    "### 1. Donat una pel·lícula de 98 minuts en format 4K amb una resolució de 3840x2160, calculeu la mida del fitxer (en MB, GB o TB) per a guardar el vídeo sense compressió. Tingueu en compte tots els aspectes més comuns pels valors de fps, bits per píxel, canals de colors, etc. especifiqueu fins valors heu escollit en cada cas.\n"
   ]
  },
  {
   "cell_type": "markdown",
   "metadata": {},
   "source": [
    "\n",
    "### 2. El paràmetre Q-scale de MPEG. Escolliu 5 vídeos que tinguin característiques diferents (més/menys detall/moviment, etc.) per a fer servir com a dataset d’aquesta pràctica de la web http://media.xiph.org/video/derf/\n"
   ]
  },
  {
   "cell_type": "markdown",
   "metadata": {},
   "source": [
    "\n",
    "#### 2.1 Utilitzant un visualitzador de vídeos, com pot ser el VLC de VideoLAN. Mirar quin és el còdec de cada vídeo descarregat. Quin còdec fan servir i quin espai de color?\n"
   ]
  },
  {
   "cell_type": "markdown",
   "metadata": {},
   "source": [
    "\n",
    "#### 2.2 Què és el paràmetre Q-scale dins la família de còdec MPEG? Explica detalladament.\n"
   ]
  },
  {
   "cell_type": "markdown",
   "metadata": {},
   "source": [
    "\n",
    "#### 2.3 Comprimiu els vídeos utilitzant H.261 (aplicació ffmpeg amb el paràmetre -vcodec h261), variant el paràmetre de q-scale (repetir amb 4 valors diferents de q-scale cada vídeo). Quan ocupa cada vídeo comprimit?. Feu una taula amb la ratio de compressió d’aquests vídeos respecte del vídeo original.\n"
   ]
  },
  {
   "cell_type": "markdown",
   "metadata": {},
   "source": [
    "\n",
    "#### 2.4 Repetir l’apartat anterior ara comprimint amb MPEG2, fent servir l’aplicació ffmpeg i el paràmetre -vcodec mpeg2video\n"
   ]
  },
  {
   "cell_type": "markdown",
   "metadata": {},
   "source": [
    "\n",
    "#### 2.5 Genereu els frames de cada vídeo. Recorreu els vídeos codificats quadre per quadre (frame) i mesureu l’error de compressió fent servir la mètrica MSE. Calculeu el promig de MSE per a cada valor de q-scale i comenteu els resultats dels 4 valors de q-scale (mida del fitxer resultant al disc, el canvi en qualitat, etc. per cada vídeo). Tant de h261 com de MPEG2.\n"
   ]
  },
  {
   "cell_type": "markdown",
   "metadata": {},
   "source": [
    "\n",
    "### 3. Comparació dels vídeos i de les mètriques. A partir dels resultats anteriors obtinguts, trieu un valor de Q-scale per a fer servir a la resta d’aquesta pràctica, s’ha de justificar l’elecció. Comprimiu els 5 vídeos utilitzant MPEG2 amb el Q-scale escollit.\n"
   ]
  },
  {
   "cell_type": "markdown",
   "metadata": {},
   "source": [
    "\n",
    "#### 3.1 Recorreu els vídeos codificats quadre per quadre; i per cada quadre, mesureu l’error de compressió fent servir les mètriques MSE, SSIM i SNR. Prepareu 3 gràfics (seran les Figures 1, 2 i 3), amb línies de diferents colors/formes per cada vídeo:\n",
    "- MSE vs. #quadre (Figura 1)\n",
    "- SSIM vs. #quadre (Figura 2)\n",
    "- SNR vs. #quadre (Figura 3)\n"
   ]
  },
  {
   "cell_type": "markdown",
   "metadata": {},
   "source": [
    "\n",
    "#### 3.2 Analitzeu les figures, i comenteu les diferències en la compressió dels diferents vídeos. Comenteu les diferències entre les mètriques de comparació. Capturen els errors de la mateixa manera? Als vídeos, hi ha algunes parts on hi ha menys/més error comparat amb la resta del vídeo?\n"
   ]
  },
  {
   "cell_type": "markdown",
   "metadata": {},
   "source": [
    "\n",
    "#### 3.3 Mireu el detall de cada gràfica. Quina forma tenen i perquè tenen aquestes variacions?"
   ]
  }
 ],
 "metadata": {
  "kernelspec": {
   "display_name": "SM",
   "language": "python",
   "name": "python3"
  },
  "language_info": {
   "codemirror_mode": {
    "name": "ipython",
    "version": 3
   },
   "file_extension": ".py",
   "mimetype": "text/x-python",
   "name": "python",
   "nbconvert_exporter": "python",
   "pygments_lexer": "ipython3",
   "version": "3.13.2"
  }
 },
 "nbformat": 4,
 "nbformat_minor": 2
}
