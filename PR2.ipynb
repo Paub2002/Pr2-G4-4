{
 "cells": [
  {
   "cell_type": "code",
   "execution_count": 1,
   "metadata": {},
   "outputs": [],
   "source": [
    "import utility\n",
    "input = './Videos/akiyo_cif'\n",
    "def mpeg2Compress(input, q ):\n",
    "    output = './output' + input + 'outputQ' + str(q) + '.avi'\n",
    "    input += '.y4m'\n",
    "    command = [\n",
    "\t    'ffmpeg',\n",
    "\t    '-y',\n",
    "\t    '-an',\n",
    "\t    '-i', input, \n",
    "\t    '-q:v', '15',\n",
    "\t    '-vcodec', 'h261',\n",
    "\t    output,\n",
    "\t]\n",
    "\n",
    "\t# Executem la comanda\n",
    "    utility.execute_command(command)"
   ]
  },
  {
   "cell_type": "code",
   "execution_count": 2,
   "metadata": {},
   "outputs": [
    {
     "ename": "CalledProcessError",
     "evalue": "Command '['ffmpeg', '-y', '-an', '-i', './Videos/akiyo_cif.y4m', '-q:v', '15', '-vcodec', 'h261', './output./Videos/akiyo_cifoutputQ15.avi']' returned non-zero exit status 4294967294.",
     "output_type": "error",
     "traceback": [
      "\u001b[31m---------------------------------------------------------------------------\u001b[39m",
      "\u001b[31mCalledProcessError\u001b[39m                        Traceback (most recent call last)",
      "\u001b[36mCell\u001b[39m\u001b[36m \u001b[39m\u001b[32mIn[2]\u001b[39m\u001b[32m, line 1\u001b[39m\n\u001b[32m----> \u001b[39m\u001b[32m1\u001b[39m \u001b[43mmpeg2Compress\u001b[49m\u001b[43m(\u001b[49m\u001b[38;5;28;43minput\u001b[39;49m\u001b[43m,\u001b[49m\u001b[32;43m15\u001b[39;49m\u001b[43m)\u001b[49m\n",
      "\u001b[36mCell\u001b[39m\u001b[36m \u001b[39m\u001b[32mIn[1]\u001b[39m\u001b[32m, line 17\u001b[39m, in \u001b[36mmpeg2Compress\u001b[39m\u001b[34m(input, q)\u001b[39m\n\u001b[32m      6\u001b[39m     command = [\n\u001b[32m      7\u001b[39m \t    \u001b[33m'\u001b[39m\u001b[33mffmpeg\u001b[39m\u001b[33m'\u001b[39m,\n\u001b[32m      8\u001b[39m \t    \u001b[33m'\u001b[39m\u001b[33m-y\u001b[39m\u001b[33m'\u001b[39m,\n\u001b[32m   (...)\u001b[39m\u001b[32m     13\u001b[39m \t    output,\n\u001b[32m     14\u001b[39m \t]\n\u001b[32m     16\u001b[39m \t\u001b[38;5;66;03m# Executem la comanda\u001b[39;00m\n\u001b[32m---> \u001b[39m\u001b[32m17\u001b[39m     \u001b[43mutility\u001b[49m\u001b[43m.\u001b[49m\u001b[43mexecute_command\u001b[49m\u001b[43m(\u001b[49m\u001b[43mcommand\u001b[49m\u001b[43m)\u001b[49m\n",
      "\u001b[36mFile \u001b[39m\u001b[32mc:\\Users\\pcb20\\Documents\\SM\\Practicas\\Pr2-G4-4\\utility.py:55\u001b[39m, in \u001b[36mexecute_command\u001b[39m\u001b[34m(command, output_results)\u001b[39m\n\u001b[32m     53\u001b[39m \u001b[38;5;28;01melse\u001b[39;00m:\n\u001b[32m     54\u001b[39m     \u001b[38;5;28;01mwith\u001b[39;00m \u001b[38;5;28mopen\u001b[39m(os.devnull, \u001b[33m'\u001b[39m\u001b[33mwb\u001b[39m\u001b[33m'\u001b[39m) \u001b[38;5;28;01mas\u001b[39;00m devnull:\n\u001b[32m---> \u001b[39m\u001b[32m55\u001b[39m         \u001b[43msubprocess\u001b[49m\u001b[43m.\u001b[49m\u001b[43mcheck_call\u001b[49m\u001b[43m(\u001b[49m\u001b[43mcommand\u001b[49m\u001b[43m,\u001b[49m\u001b[43m \u001b[49m\u001b[43mstdout\u001b[49m\u001b[43m=\u001b[49m\u001b[43mdevnull\u001b[49m\u001b[43m,\u001b[49m\u001b[43m \u001b[49m\u001b[43mstderr\u001b[49m\u001b[43m=\u001b[49m\u001b[43msubprocess\u001b[49m\u001b[43m.\u001b[49m\u001b[43mSTDOUT\u001b[49m\u001b[43m)\u001b[49m\n",
      "\u001b[36mFile \u001b[39m\u001b[32mc:\\Users\\pcb20\\anaconda3\\envs\\SM\\Lib\\subprocess.py:421\u001b[39m, in \u001b[36mcheck_call\u001b[39m\u001b[34m(*popenargs, **kwargs)\u001b[39m\n\u001b[32m    419\u001b[39m     \u001b[38;5;28;01mif\u001b[39;00m cmd \u001b[38;5;129;01mis\u001b[39;00m \u001b[38;5;28;01mNone\u001b[39;00m:\n\u001b[32m    420\u001b[39m         cmd = popenargs[\u001b[32m0\u001b[39m]\n\u001b[32m--> \u001b[39m\u001b[32m421\u001b[39m     \u001b[38;5;28;01mraise\u001b[39;00m CalledProcessError(retcode, cmd)\n\u001b[32m    422\u001b[39m \u001b[38;5;28;01mreturn\u001b[39;00m \u001b[32m0\u001b[39m\n",
      "\u001b[31mCalledProcessError\u001b[39m: Command '['ffmpeg', '-y', '-an', '-i', './Videos/akiyo_cif.y4m', '-q:v', '15', '-vcodec', 'h261', './output./Videos/akiyo_cifoutputQ15.avi']' returned non-zero exit status 4294967294."
     ]
    }
   ],
   "source": [
    "mpeg2Compress(input,15)"
   ]
  }
 ],
 "metadata": {
  "kernelspec": {
   "display_name": "SM",
   "language": "python",
   "name": "python3"
  },
  "language_info": {
   "codemirror_mode": {
    "name": "ipython",
    "version": 3
   },
   "file_extension": ".py",
   "mimetype": "text/x-python",
   "name": "python",
   "nbconvert_exporter": "python",
   "pygments_lexer": "ipython3",
   "version": "3.13.2"
  }
 },
 "nbformat": 4,
 "nbformat_minor": 2
}
